{
 "cells": [
  {
   "cell_type": "markdown",
   "metadata": {},
   "source": [
    "## [Problem 1] Blending scratch mounting"
   ]
  },
  {
   "cell_type": "code",
   "execution_count": 21,
   "metadata": {},
   "outputs": [],
   "source": [
    "from numpy import hstack\n",
    "from sklearn.datasets import make_classification\n",
    "from sklearn.model_selection import train_test_split\n",
    "from sklearn.metrics import accuracy_score\n",
    "from sklearn.metrics import mean_absolute_error\n",
    "from sklearn.linear_model import LinearRegression\n",
    "from sklearn.neighbors import KNeighborsRegressor\n",
    "from sklearn.tree import DecisionTreeRegressor\n",
    "from sklearn.svm import SVR\n",
    "from sklearn.ensemble import VotingRegressor\n",
    "import pandas as pd"
   ]
  },
  {
   "cell_type": "code",
   "execution_count": 116,
   "metadata": {},
   "outputs": [],
   "source": [
    "# get a list of base models\n",
    "class BlendingRegressor:\n",
    "    def __init__(self):\n",
    "        self.models = []\n",
    "        self.models.append(('lr', LinearRegression()))\n",
    "        self.models.append(('knn', KNeighborsRegressor()))\n",
    "        self.models.append(('cart', DecisionTreeRegressor()))\n",
    "        self.models.append(('svm', SVR()))\n",
    "        self.blender1 = LinearRegression()\n",
    "        self.blender2 = VotingRegressor(self.models)\n",
    "        self.blender3 = KNeighborsRegressor()\n",
    "        \n",
    "    def fit(self ,X_train, y_train, X_val=None, y_val=None):\n",
    "        # fit all models on the training set and predict on hold out set\n",
    "        meta_X = list()\n",
    "        for name, model in self.models:\n",
    "            # fit in training set\n",
    "            model.fit(X_train.values[0:int(X_train.shape[0]/2)], y_train.values[0:int(X_train.shape[0]/2)])\n",
    "            # predict on hold out set\n",
    "            yhat = model.predict(X_train.values[int(X_train.shape[0]/2):])\n",
    "            # reshape predictions into a matrix with one column\n",
    "            yhat = yhat.reshape(len(yhat), 1)\n",
    "            # store predictions as input for blending\n",
    "            meta_X.append(yhat)\n",
    "        # create 2d array from predictions, each set is an input feature\n",
    "        meta_X = hstack(meta_X)\n",
    "        # fit on predictions from base models\n",
    "        self.blender1.fit(meta_X, y_train.values[int(X_train.shape[0]/2):])\n",
    "        self.blender2.fit(meta_X, y_train.values[int(X_train.shape[0]/2):])\n",
    "        self.blender3.fit(meta_X,y_train.values[int(X_train.shape[0]/2):])\n",
    "    \n",
    "    # make a prediction with the blending ensemble\n",
    "    def predict1(self, X):\n",
    "        # make predictions with base models\n",
    "        meta_X = list()\n",
    "        for name, model in self.models:\n",
    "            # predict with base model\n",
    "            yhat = model.predict(X)\n",
    "            # reshape predictions into a matrix with one column\n",
    "            yhat = yhat.reshape(len(yhat), 1)\n",
    "            # store prediction\n",
    "            meta_X.append(yhat)\n",
    "        # create 2d array from predictions, each set is an input feature\n",
    "        meta_X = hstack(meta_X)\n",
    "        # predict\n",
    "        return self.blender1.predict(meta_X)\n",
    "    \n",
    "    def predict2(self, X):\n",
    "        # make predictions with base models\n",
    "        meta_X = list()\n",
    "        for name, model in self.models:\n",
    "            # predict with base model\n",
    "            yhat = model.predict(X)\n",
    "            # reshape predictions into a matrix with one column\n",
    "            yhat = yhat.reshape(len(yhat), 1)\n",
    "            # store prediction\n",
    "            meta_X.append(yhat)\n",
    "        # create 2d array from predictions, each set is an input feature\n",
    "        meta_X = hstack(meta_X)\n",
    "        # predict\n",
    "        return self.blender2.predict(meta_X)\n",
    "    \n",
    "    def predict3(self, X):\n",
    "        # make predictions with base models\n",
    "        meta_X = list()\n",
    "        for name, model in self.models:\n",
    "            # predict with base model\n",
    "            yhat = model.predict(X)\n",
    "            # reshape predictions into a matrix with one column\n",
    "            yhat = yhat.reshape(len(yhat), 1)\n",
    "            # store prediction\n",
    "            meta_X.append(yhat)\n",
    "        # create 2d array from predictions, each set is an input feature\n",
    "        meta_X = hstack(meta_X)\n",
    "        # predict\n",
    "        return self.blender3.predict(meta_X)\n",
    "    \n",
    "    \n"
   ]
  },
  {
   "cell_type": "code",
   "execution_count": 15,
   "metadata": {},
   "outputs": [],
   "source": [
    "data = pd.read_csv(\"train.csv\")"
   ]
  },
  {
   "cell_type": "code",
   "execution_count": 55,
   "metadata": {},
   "outputs": [
    {
     "data": {
      "text/plain": [
       "1460"
      ]
     },
     "execution_count": 55,
     "metadata": {},
     "output_type": "execute_result"
    }
   ],
   "source": [
    "len(data)"
   ]
  },
  {
   "cell_type": "code",
   "execution_count": 16,
   "metadata": {},
   "outputs": [],
   "source": [
    "data_select = data[[\"GrLivArea\",\"YearBuilt\",\"SalePrice\"]]"
   ]
  },
  {
   "cell_type": "code",
   "execution_count": 17,
   "metadata": {},
   "outputs": [
    {
     "data": {
      "text/html": [
       "<div>\n",
       "<style scoped>\n",
       "    .dataframe tbody tr th:only-of-type {\n",
       "        vertical-align: middle;\n",
       "    }\n",
       "\n",
       "    .dataframe tbody tr th {\n",
       "        vertical-align: top;\n",
       "    }\n",
       "\n",
       "    .dataframe thead th {\n",
       "        text-align: right;\n",
       "    }\n",
       "</style>\n",
       "<table border=\"1\" class=\"dataframe\">\n",
       "  <thead>\n",
       "    <tr style=\"text-align: right;\">\n",
       "      <th></th>\n",
       "      <th>GrLivArea</th>\n",
       "      <th>YearBuilt</th>\n",
       "      <th>SalePrice</th>\n",
       "    </tr>\n",
       "  </thead>\n",
       "  <tbody>\n",
       "    <tr>\n",
       "      <th>0</th>\n",
       "      <td>1710</td>\n",
       "      <td>2003</td>\n",
       "      <td>208500</td>\n",
       "    </tr>\n",
       "    <tr>\n",
       "      <th>1</th>\n",
       "      <td>1262</td>\n",
       "      <td>1976</td>\n",
       "      <td>181500</td>\n",
       "    </tr>\n",
       "    <tr>\n",
       "      <th>2</th>\n",
       "      <td>1786</td>\n",
       "      <td>2001</td>\n",
       "      <td>223500</td>\n",
       "    </tr>\n",
       "    <tr>\n",
       "      <th>3</th>\n",
       "      <td>1717</td>\n",
       "      <td>1915</td>\n",
       "      <td>140000</td>\n",
       "    </tr>\n",
       "    <tr>\n",
       "      <th>4</th>\n",
       "      <td>2198</td>\n",
       "      <td>2000</td>\n",
       "      <td>250000</td>\n",
       "    </tr>\n",
       "  </tbody>\n",
       "</table>\n",
       "</div>"
      ],
      "text/plain": [
       "   GrLivArea  YearBuilt  SalePrice\n",
       "0       1710       2003     208500\n",
       "1       1262       1976     181500\n",
       "2       1786       2001     223500\n",
       "3       1717       1915     140000\n",
       "4       2198       2000     250000"
      ]
     },
     "execution_count": 17,
     "metadata": {},
     "output_type": "execute_result"
    }
   ],
   "source": [
    "data_select.head()"
   ]
  },
  {
   "cell_type": "code",
   "execution_count": 181,
   "metadata": {},
   "outputs": [],
   "source": [
    "X_train, X_val, y_train, y_val = train_test_split(data_select[[\"GrLivArea\",\"YearBuilt\"]], data_select[[\"SalePrice\"]], test_size=0.2, random_state=42)"
   ]
  },
  {
   "cell_type": "code",
   "execution_count": 89,
   "metadata": {},
   "outputs": [],
   "source": [
    "# X_train.values[0:int(X_train.shape[0]/2)]"
   ]
  },
  {
   "cell_type": "code",
   "execution_count": 117,
   "metadata": {},
   "outputs": [],
   "source": [
    "model = BlendingRegressor()"
   ]
  },
  {
   "cell_type": "code",
   "execution_count": 118,
   "metadata": {},
   "outputs": [
    {
     "name": "stderr",
     "output_type": "stream",
     "text": [
      "C:\\ProgramData\\Anaconda3\\envs\\LV\\lib\\site-packages\\sklearn\\utils\\validation.py:63: DataConversionWarning: A column-vector y was passed when a 1d array was expected. Please change the shape of y to (n_samples, ), for example using ravel().\n",
      "  return f(*args, **kwargs)\n",
      "C:\\ProgramData\\Anaconda3\\envs\\LV\\lib\\site-packages\\sklearn\\utils\\validation.py:63: DataConversionWarning: A column-vector y was passed when a 1d array was expected. Please change the shape of y to (n_samples, ), for example using ravel().\n",
      "  return f(*args, **kwargs)\n"
     ]
    }
   ],
   "source": [
    "model.fit(X_train,y_train)"
   ]
  },
  {
   "cell_type": "code",
   "execution_count": 135,
   "metadata": {},
   "outputs": [],
   "source": [
    "base = LinearRegression()"
   ]
  },
  {
   "cell_type": "code",
   "execution_count": 126,
   "metadata": {},
   "outputs": [
    {
     "data": {
      "text/plain": [
       "LinearRegression()"
      ]
     },
     "execution_count": 126,
     "metadata": {},
     "output_type": "execute_result"
    }
   ],
   "source": [
    "base.fit(X_train,y_train)"
   ]
  },
  {
   "cell_type": "code",
   "execution_count": 127,
   "metadata": {},
   "outputs": [],
   "source": [
    "base_result = base.predict(X_val)"
   ]
  },
  {
   "cell_type": "code",
   "execution_count": 129,
   "metadata": {},
   "outputs": [
    {
     "name": "stdout",
     "output_type": "stream",
     "text": [
      "Base Linear MAE: 32358.771\n"
     ]
    }
   ],
   "source": [
    "score = mean_absolute_error(y_val, base_result)\n",
    "print('Base Linear MAE: %.3f' % score)"
   ]
  },
  {
   "cell_type": "code",
   "execution_count": 119,
   "metadata": {},
   "outputs": [],
   "source": [
    "blender1_result = model.predict1(X_val)"
   ]
  },
  {
   "cell_type": "code",
   "execution_count": 130,
   "metadata": {},
   "outputs": [
    {
     "name": "stdout",
     "output_type": "stream",
     "text": [
      "Blending1 MAE: 30759.674\n"
     ]
    }
   ],
   "source": [
    "score = mean_absolute_error(y_val, blender1_result)\n",
    "print('Blending1 MAE: %.3f' % score)"
   ]
  },
  {
   "cell_type": "code",
   "execution_count": 121,
   "metadata": {},
   "outputs": [],
   "source": [
    "blender2_result = model.predict2(X_val)"
   ]
  },
  {
   "cell_type": "code",
   "execution_count": 131,
   "metadata": {},
   "outputs": [
    {
     "name": "stdout",
     "output_type": "stream",
     "text": [
      "Blending2 MAE: 31244.386\n"
     ]
    }
   ],
   "source": [
    "score = mean_absolute_error(y_val, blender2_result)\n",
    "print('Blending2 MAE: %.3f' % score)"
   ]
  },
  {
   "cell_type": "code",
   "execution_count": 123,
   "metadata": {},
   "outputs": [],
   "source": [
    "blender3_result = model.predict3(X_val)"
   ]
  },
  {
   "cell_type": "code",
   "execution_count": 132,
   "metadata": {},
   "outputs": [
    {
     "name": "stdout",
     "output_type": "stream",
     "text": [
      "Blending3 MAE: 30363.034\n"
     ]
    }
   ],
   "source": [
    "score = mean_absolute_error(y_val, blender3_result)\n",
    "print('Blending3 MAE: %.3f' % score)"
   ]
  },
  {
   "cell_type": "markdown",
   "metadata": {},
   "source": [
    "## [Problem 2] Scratch mounting of bagging"
   ]
  },
  {
   "cell_type": "code",
   "execution_count": 241,
   "metadata": {},
   "outputs": [],
   "source": [
    "import random\n",
    "class BaggingRegressor:\n",
    "    def __init__(self,number_model = 200,sample_size = 0.5):\n",
    "        self.models = [LinearRegression() for i in range(number_model)]\n",
    "        self.sample_size = sample_size\n",
    "    def fit(self,X, y):\n",
    "        X = np.array(X)\n",
    "        y = np.array(y)\n",
    "        for model in self.models:\n",
    "            sample_X , sample_y = self.subsample(X,y)\n",
    "            model.fit(sample_X,sample_y)\n",
    "    \n",
    "    def predict(self,X):\n",
    "        result = 0\n",
    "        for model in self.models:\n",
    "            result += model.predict(X)\n",
    "        return result / len(self.models)\n",
    "    # Create a random subsample from the dataset with replacement\n",
    "    def subsample(self,X,y):\n",
    "        sample_X = list()\n",
    "        sample_y = list()\n",
    "        n_sample = round(len(X) * self.sample_size)\n",
    "        while len(sample_X) < n_sample:\n",
    "            index = random.randrange(len(X))\n",
    "            sample_X.append(X[index])\n",
    "            sample_y.append(y[index])\n",
    "        return np.array(sample_X) , np.array(sample_y)\n",
    "    \n",
    "    \n"
   ]
  },
  {
   "cell_type": "code",
   "execution_count": 242,
   "metadata": {},
   "outputs": [],
   "source": [
    "model = BaggingRegressor()"
   ]
  },
  {
   "cell_type": "code",
   "execution_count": 243,
   "metadata": {},
   "outputs": [],
   "source": [
    "model.fit(X_train,y_train)"
   ]
  },
  {
   "cell_type": "code",
   "execution_count": 244,
   "metadata": {},
   "outputs": [],
   "source": [
    "base = LinearRegression()"
   ]
  },
  {
   "cell_type": "code",
   "execution_count": 245,
   "metadata": {},
   "outputs": [
    {
     "data": {
      "text/plain": [
       "LinearRegression()"
      ]
     },
     "execution_count": 245,
     "metadata": {},
     "output_type": "execute_result"
    }
   ],
   "source": [
    "base.fit(X_train,y_train)"
   ]
  },
  {
   "cell_type": "code",
   "execution_count": 246,
   "metadata": {},
   "outputs": [],
   "source": [
    "base_result = base.predict(X_val)"
   ]
  },
  {
   "cell_type": "code",
   "execution_count": 247,
   "metadata": {},
   "outputs": [
    {
     "name": "stdout",
     "output_type": "stream",
     "text": [
      "Base Linear MAE: 32358.771\n"
     ]
    }
   ],
   "source": [
    "score = mean_absolute_error(y_val, base_result)\n",
    "print('Base Linear MAE: %.3f' % score)"
   ]
  },
  {
   "cell_type": "code",
   "execution_count": 248,
   "metadata": {},
   "outputs": [],
   "source": [
    "bagging_result = model.predict(X_val)"
   ]
  },
  {
   "cell_type": "code",
   "execution_count": 249,
   "metadata": {},
   "outputs": [
    {
     "name": "stdout",
     "output_type": "stream",
     "text": [
      "Bagging MAE: 32308.624\n"
     ]
    }
   ],
   "source": [
    "score = mean_absolute_error(y_val, bagging_result)\n",
    "print('Bagging MAE: %.3f' % score)"
   ]
  },
  {
   "cell_type": "markdown",
   "metadata": {},
   "source": [
    "## [Problem 3] Stacking scratch mounting"
   ]
  },
  {
   "cell_type": "code",
   "execution_count": 405,
   "metadata": {},
   "outputs": [],
   "source": [
    "import random\n",
    "from sklearn.model_selection import KFold \n",
    "class StackingRegressor:\n",
    "    def __init__(self,folds,stages):\n",
    "        self.n_folds = folds\n",
    "        self.models = {}\n",
    "        self.stages = stages\n",
    "        self.kf = KFold(n_splits=self.n_folds)\n",
    "        for i in range(self.stages):\n",
    "            self.models[str(i)] = {}\n",
    "            for j in range(self.n_folds):\n",
    "                self.models[str(i)][str(j)] = []\n",
    "                self.models[str(i)][str(j)].append(('lr', LinearRegression()))\n",
    "                self.models[str(i)][str(j)].append(('knn', KNeighborsRegressor()))\n",
    "                self.models[str(i)][str(j)].append(('cart', DecisionTreeRegressor()))\n",
    "                self.models[str(i)][str(j)].append(('svm', SVR()))\n",
    "        self.estimator = LinearRegression()\n",
    "        \n",
    "    def fit(self,X,y):\n",
    "        X = np.array(X)\n",
    "        y = np.array(y)\n",
    "        dataset = np.concatenate([X,y],axis = 1)\n",
    "        for stage in range(self.stages):\n",
    "            dataset = self.training_algorithm(dataset,stage)\n",
    "        \n",
    "        self.estimator.fit(dataset[:,0:-1],dataset[:,-1])\n",
    "        \n",
    "    def predict(self,X):\n",
    "        dataset = np.array(X)\n",
    "        for stage in range(self.stages):\n",
    "            dataset = self.predict_algorithm(dataset,stage)\n",
    "        return self.estimator.predict(dataset)\n",
    "    \n",
    "    def training_algorithm(self,dataset,stage):\n",
    "        datalist = [None]*len(dataset)\n",
    "        count = 0\n",
    "        for train_index, test_index in self.kf.split(dataset):\n",
    "            name ,model = self.models[str(stage)][str(count)][0]\n",
    "            model.fit(dataset[train_index,0:-1], dataset[train_index,-1])\n",
    "            predicted = model.predict(dataset[test_index,0:-1]).reshape(-1,1)\n",
    "            for name , model in self.models[str(stage)][str(count)][1:]:\n",
    "                model.fit(dataset[train_index,0:-1], dataset[train_index,-1])\n",
    "                predicted = np.concatenate([predicted,model.predict(dataset[test_index,0:-1]).reshape(-1,1)],axis = 1)\n",
    "#             print( predicted.shape)\n",
    "            for pos , j in enumerate(list(test_index)):\n",
    "                \n",
    "                datalist[j] = predicted[pos]\n",
    "            count += 1\n",
    "            \n",
    "#         print(np.array(datalist).shape)\n",
    "#         print(dataset[:,0:-1].shape)\n",
    "        dataset = np.concatenate([dataset[:,0:-1],np.array(datalist),dataset[:,-1].reshape((-1,1))],axis = 1)\n",
    "        return dataset\n",
    "    \n",
    "\n",
    "#     def cross_validation_split(self,dataset):\n",
    "#         dataset_split = list()\n",
    "#         dataset_copy = list(dataset)\n",
    "#         index = list()\n",
    "#         fold_size = int(len(dataset) / self.n_folds)\n",
    "#         for i in range(self.n_folds):\n",
    "#             fold = list()\n",
    "#             index_list = list()\n",
    "#             while len(fold) < fold_size:\n",
    "#                 index = random.randrange(len(dataset_copy))\n",
    "#                 data = dataset_copy.pop(index)\n",
    "#                 fold.append(data)\n",
    "# #                 index_list.append(list(dataset).index(data)) \n",
    "#                 index_list.append( np.where(dataset == data)) \n",
    "#                 print(index_list)\n",
    "#             dataset_split.append(fold)\n",
    "#             index.append(index_list)\n",
    "#         return dataset_split , index\n",
    "    \n",
    "#     def training_algorithm(self,dataset,stage):\n",
    "#         folds , index = self.cross_validation_split(dataset)\n",
    "#         datalist = [None]*len(dataset)\n",
    "#         for i ,fold in enumerate(folds):\n",
    "#             train_set = list(folds)\n",
    "#             train_set.remove(fold)\n",
    "#             train_set = sum(train_set, [])\n",
    "#             test_set = list()\n",
    "#             for row in fold:\n",
    "#                 row_copy = list(row)\n",
    "#                 test_set.append(row_copy)\n",
    "#                 row_copy[-1] = None\n",
    "#             for name , model in self.models[str(stage)]:\n",
    "#                 model.fit(train_set[:,0:-1], train_set[:,-1])\n",
    "#                 predicted = model.predict(test_set[:,0:-1])\n",
    "#                 for j,pos in enumerate(index[i]):\n",
    "#                     datalist[pos] = predicted[j]\n",
    "#         dataset = np.concatenate([dataset[:,0:-1],np.array(datalist),dataset[:,-1]],axis = 1)\n",
    "#         return dataset\n",
    "    def predict_algorithm(self,dataset,stage):\n",
    "        for i in range(self.n_folds):\n",
    "            name ,model = self.models[str(stage)][str(i)][0]\n",
    "            predicted = model.predict(dataset).reshape(-1,1)\n",
    "            for name , model in self.models[str(stage)][str(i)][1:]:\n",
    "                predicted = np.concatenate([predicted,model.predict(dataset).reshape(-1,1)],axis = 1)\n",
    "            if i == 0:\n",
    "                data = predicted\n",
    "            else:\n",
    "                data = data + predicted\n",
    "                \n",
    "        dataset = np.concatenate([dataset,data/self.n_folds],axis = 1)\n",
    "        return dataset\n",
    "                                          \n",
    "                                        \n",
    "                                          \n",
    "          \n"
   ]
  },
  {
   "cell_type": "code",
   "execution_count": 406,
   "metadata": {},
   "outputs": [],
   "source": [
    "model = StackingRegressor(3,10)"
   ]
  },
  {
   "cell_type": "code",
   "execution_count": 407,
   "metadata": {},
   "outputs": [],
   "source": [
    "model.fit(X_train,y_train)"
   ]
  },
  {
   "cell_type": "code",
   "execution_count": 408,
   "metadata": {},
   "outputs": [],
   "source": [
    "stacking_results = model.predict(X_val)"
   ]
  },
  {
   "cell_type": "code",
   "execution_count": 409,
   "metadata": {},
   "outputs": [],
   "source": [
    "base = LinearRegression()"
   ]
  },
  {
   "cell_type": "code",
   "execution_count": 410,
   "metadata": {},
   "outputs": [
    {
     "data": {
      "text/plain": [
       "LinearRegression()"
      ]
     },
     "execution_count": 410,
     "metadata": {},
     "output_type": "execute_result"
    }
   ],
   "source": [
    "base.fit(X_train,y_train)"
   ]
  },
  {
   "cell_type": "code",
   "execution_count": 411,
   "metadata": {},
   "outputs": [],
   "source": [
    "base_result = base.predict(X_val)"
   ]
  },
  {
   "cell_type": "code",
   "execution_count": 412,
   "metadata": {},
   "outputs": [
    {
     "name": "stdout",
     "output_type": "stream",
     "text": [
      "Base Linear MAE: 32358.771\n"
     ]
    }
   ],
   "source": [
    "score = mean_absolute_error(y_val, base_result)\n",
    "print('Base Linear MAE: %.3f' % score)"
   ]
  },
  {
   "cell_type": "code",
   "execution_count": 414,
   "metadata": {},
   "outputs": [
    {
     "name": "stdout",
     "output_type": "stream",
     "text": [
      "Stacking MAE: 29112.708\n"
     ]
    }
   ],
   "source": [
    "score = mean_absolute_error(y_val, stacking_results)\n",
    "print('Stacking MAE: %.3f' % score)"
   ]
  },
  {
   "cell_type": "code",
   "execution_count": null,
   "metadata": {},
   "outputs": [],
   "source": []
  }
 ],
 "metadata": {
  "kernelspec": {
   "display_name": "Python 3",
   "language": "python",
   "name": "python3"
  },
  "language_info": {
   "codemirror_mode": {
    "name": "ipython",
    "version": 3
   },
   "file_extension": ".py",
   "mimetype": "text/x-python",
   "name": "python",
   "nbconvert_exporter": "python",
   "pygments_lexer": "ipython3",
   "version": "3.6.12"
  }
 },
 "nbformat": 4,
 "nbformat_minor": 4
}
