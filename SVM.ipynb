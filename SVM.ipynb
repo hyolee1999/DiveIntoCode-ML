{
 "cells": [
  {
   "cell_type": "code",
   "execution_count": 1,
   "metadata": {},
   "outputs": [],
   "source": [
    "import numpy as np \n",
    "import cvxopt\n",
    "import cvxopt.solvers"
   ]
  },
  {
   "cell_type": "code",
   "execution_count": 3,
   "metadata": {},
   "outputs": [],
   "source": [
    "cvxopt.solvers.options['show_progress'] = True"
   ]
  },
  {
   "cell_type": "code",
   "execution_count": 51,
   "metadata": {},
   "outputs": [],
   "source": [
    "class ScratchSVMClassifier():\n",
    "    \"\"\"\n",
    "    Scratch implementation of SVM classifier\n",
    "    Parameters\n",
    "    ----------\n",
    "    num_iter : int\n",
    "      Number of iterations\n",
    "    lr : float\n",
    "      Learning rate\n",
    "    kernel : str\n",
    "      Kernel type. Linear kernel (linear) or polynomial kernel (polly)\n",
    "    threshold : float\n",
    "      Threshold for choosing a support vector\n",
    "    verbose : bool\n",
    "      True to output the learning process\n",
    "    Attributes\n",
    "    ----------\n",
    "    self.n_support_vectors : int\n",
    "      Number of support vectors\n",
    "    self.index_support_vectors : The following form of ndarray, shape (n_support_vectors,)\n",
    "      Support vector index\n",
    "    self.X_sv :  The following forms of ndarray, shape (n_support_vectors, n_features)\n",
    "      Support vector features\n",
    "    self.lam_sv :  The following forms of ndarray, shape (n_support_vectors, 1)\n",
    "      Support vector undetermined multiplier\n",
    "    self.y_sv :  The following forms of ndarray, shape (n_support_vectors, 1)\n",
    "      Support vector label\n",
    "    \"\"\"\n",
    "    def __init__(self, num_iter, lr, kernel='linear', threshold=1e-5, verbose=False,polyconst=1,degree=2):\n",
    "        # Record hyperparameters as attributes\n",
    "        self.iter = num_iter\n",
    "        self.lr = lr\n",
    "        self.kernel = kernel\n",
    "        self.threshold = threshold\n",
    "        self.verbose = verbose\n",
    "        self.kf = {\n",
    "            \"linear\":self.linear,\n",
    "            \"poly\":self.polynomial\n",
    "        }\n",
    "        \n",
    "        self._support_vectors = None\n",
    "        self._alphas = None\n",
    "        self.intercept = None\n",
    "        self._n_support = None\n",
    "        self.weights = None\n",
    "        self._support_labels = None\n",
    "        self._indices = None\n",
    "        \n",
    "    def transform(self,X):\n",
    "        K = np.zeros([X.shape[0],X.shape[0]])\n",
    "        for i in range(X.shape[0]):\n",
    "            for j in range(X.shape[0]):\n",
    "                K[i,j] = self.kf[self.kernel](X[i],X[j])\n",
    "        return K\n",
    "    def fit(self, X, y, X_val=None, y_val=None):\n",
    "        \"\"\"\n",
    "        Learn the SVM classifier. If verification data is input, the accuracy for it is also calculated for each iteration.\n",
    "        Parameters\n",
    "        ----------\n",
    "        X : The following forms of ndarray, shape (n_samples, n_features)\n",
    "            Features of training data\n",
    "        y : The following form of ndarray, shape (n_samples,)\n",
    "            Correct answer value of training data\n",
    "        X_val : The following forms of ndarray, shape (n_samples, n_features)\n",
    "            Features of verification data\n",
    "        y_val : The following form of ndarray, shape (n_samples,)\n",
    "            Correct value of verification data\n",
    "        \"\"\"\n",
    "        num_data, num_features = X.shape\n",
    "        labels = y.astype(np.double)\n",
    "        K = self.transform(X)\n",
    "        P = cvxopt.matrix(np.outer(labels,labels)*K)\n",
    "        q = cvxopt.matrix(np.ones(num_data)*-1)\n",
    "        A = cvxopt.matrix(labels,(1,num_data))\n",
    "        b = cvxopt.matrix(0.0)\n",
    "        G = cvxopt.matrix(np.diag(np.ones(num_data) * -1))\n",
    "        h = cvxopt.matrix(np.zeros(num_data))\n",
    "\n",
    "        alphas = np.ravel(cvxopt.solvers.qp(P, q, G, h, A, b)['x'])\n",
    "        is_sv = alphas>1e-5\n",
    "        self._support_vectors = X[is_sv]\n",
    "        self._n_support = np.sum(is_sv)\n",
    "        self._alphas = alphas[is_sv]\n",
    "        self._support_labels = labels[is_sv]\n",
    "        self._indices = np.arange(num_data)[is_sv]\n",
    "        self.intercept = 0\n",
    "#         print(self._n_support)\n",
    "        for i in range(self._alphas.shape[0]):\n",
    "            self.intercept += self._support_labels[i] \n",
    "            self.intercept -= np.sum(self._alphas*self._support_labels*K[self._indices[i],is_sv])\n",
    "        self.intercept /= self._alphas.shape[0]\n",
    "        self.weights = np.sum(X*labels.reshape(num_data,1)*alphas.reshape(num_data,1),axis=0,keepdims=True) if self.kernel == \"linear\" else None\n",
    "#         if self.verbose: #verbose is set to True\n",
    "#             print()\n",
    "    \n",
    "    def linear(self,x,y):\n",
    "        return np.dot(x.T,y)\n",
    "\n",
    "    def polynomial(self,x,y):\n",
    "        return (np.dot(x.T,y) + self.polyconst)**self.degree\n",
    "    \n",
    "    def project(self,X):\n",
    "        if self.kernel==\"linear\":\n",
    "            score = np.dot(X,self.weights.T)+self.intercept\n",
    "#             score = X*self.weights+self.intercept\n",
    "        else:\n",
    "            score = np.zeros(X.shape[0])\n",
    "            for i in range(X.shape[0]):\n",
    "                s = 0\n",
    "                for alpha,label,sv in zip(self._alphas,self._support_labels,self._support_vectors):\n",
    "                    s += alpha*label*self.kf[self.kernel](X[i],sv)\n",
    "                score[i] = s\n",
    "            score = score + self.intercept\n",
    "        return score\n",
    "    \n",
    "    def signum(self,X):\n",
    "        return np.where(X>0,1,-1)\n",
    "    \n",
    "    def predict(self, X):\n",
    "        \"\"\"\n",
    "        Estimate the label using the SVM classifier.\n",
    "        Parameters\n",
    "        ----------\n",
    "        X : The following forms of ndarray, shape (n_samples, n_features)\n",
    "            sample\n",
    "        Returns\n",
    "        -------\n",
    "            The following form of ndarray, shape (n_samples, 1)\n",
    "            Estimated result by SVM classifier\n",
    "        \"\"\"\n",
    "  \n",
    "        return self.signum(self.project(X))"
   ]
  },
  {
   "cell_type": "code",
   "execution_count": 52,
   "metadata": {},
   "outputs": [],
   "source": [
    "import numpy as np\n",
    "np.random.seed(seed=0)\n",
    "n_samples = 500\n",
    "f0 = [-1, 2]\n",
    "f1 = [2, -1]\n",
    "cov = [[1.0,0.8], [0.8, 1.0]]\n",
    "f0 = np.random.multivariate_normal(f0, cov, n_samples // 2)\n",
    "f1 = np.random.multivariate_normal(f1, cov, n_samples // 2)\n",
    "X = np.concatenate([f0, f1])\n",
    "y = np.concatenate([\n",
    "    np.full(n_samples // 2, 1),\n",
    "    np.full(n_samples // 2, -1)\n",
    "])"
   ]
  },
  {
   "cell_type": "code",
   "execution_count": 53,
   "metadata": {},
   "outputs": [],
   "source": [
    "model = ScratchSVMClassifier(1000,0.003)"
   ]
  },
  {
   "cell_type": "code",
   "execution_count": 54,
   "metadata": {},
   "outputs": [
    {
     "name": "stdout",
     "output_type": "stream",
     "text": [
      "     pcost       dcost       gap    pres   dres\n",
      " 0: -2.1118e+01 -3.4228e+01  1e+03  3e+01  2e+00\n",
      " 1: -1.1499e+01 -1.9574e+00  7e+01  2e+00  1e-01\n",
      " 2: -2.5979e-01 -8.0470e-01  9e-01  1e-02  4e-04\n",
      " 3: -4.5453e-01 -6.5075e-01  3e-01  3e-03  1e-04\n",
      " 4: -5.8608e-01 -6.4293e-01  6e-02  2e-04  1e-05\n",
      " 5: -6.3522e-01 -6.3824e-01  3e-03  1e-05  5e-07\n",
      " 6: -6.3797e-01 -6.3800e-01  3e-05  1e-07  5e-09\n",
      " 7: -6.3800e-01 -6.3800e-01  3e-07  1e-09  5e-11\n",
      "Optimal solution found.\n"
     ]
    }
   ],
   "source": [
    "model.fit(X,y)"
   ]
  },
  {
   "cell_type": "code",
   "execution_count": 55,
   "metadata": {},
   "outputs": [],
   "source": [
    "from sklearn.metrics import classification_report"
   ]
  },
  {
   "cell_type": "code",
   "execution_count": 58,
   "metadata": {},
   "outputs": [],
   "source": [
    "y_predict=model.predict(X)"
   ]
  },
  {
   "cell_type": "code",
   "execution_count": 57,
   "metadata": {},
   "outputs": [],
   "source": [
    "# test = np.dot(X,model.weights.T)"
   ]
  },
  {
   "cell_type": "code",
   "execution_count": 50,
   "metadata": {},
   "outputs": [
    {
     "data": {
      "text/plain": [
       "(500, 1)"
      ]
     },
     "execution_count": 50,
     "metadata": {},
     "output_type": "execute_result"
    }
   ],
   "source": [
    "# test.shape"
   ]
  },
  {
   "cell_type": "code",
   "execution_count": 59,
   "metadata": {},
   "outputs": [],
   "source": [
    "# y_predict"
   ]
  },
  {
   "cell_type": "code",
   "execution_count": 62,
   "metadata": {},
   "outputs": [
    {
     "name": "stdout",
     "output_type": "stream",
     "text": [
      "              precision    recall  f1-score   support\n",
      "\n",
      "     label 1       1.00      1.00      1.00       250\n",
      "    label -1       1.00      1.00      1.00       250\n",
      "\n",
      "    accuracy                           1.00       500\n",
      "   macro avg       1.00      1.00      1.00       500\n",
      "weighted avg       1.00      1.00      1.00       500\n",
      "\n"
     ]
    }
   ],
   "source": [
    "print(classification_report(y, y_predict, target_names=[\"label 1\",\"label -1\"]))"
   ]
  },
  {
   "cell_type": "code",
   "execution_count": 63,
   "metadata": {},
   "outputs": [],
   "source": [
    "%matplotlib inline\n",
    "import matplotlib.pyplot as plt\n",
    "from matplotlib import style"
   ]
  },
  {
   "cell_type": "code",
   "execution_count": 102,
   "metadata": {},
   "outputs": [
    {
     "data": {
      "text/plain": [
       "[<matplotlib.lines.Line2D at 0x22c83c86da0>]"
      ]
     },
     "execution_count": 102,
     "metadata": {},
     "output_type": "execute_result"
    },
    {
     "data": {
      "image/png": "[encoded data removed]",
      "text/plain": [
       "<Figure size 432x288 with 1 Axes>"
      ]
     },
     "metadata": {
      "needs_background": "light"
     },
     "output_type": "display_data"
    }
   ],
   "source": [
    "fig = plt.figure()\n",
    "ax = fig.add_subplot(1,1,1)\n",
    "colors = {1:'r',-1:'b'}\n",
    "[ax.scatter(X[i][0],X[i][1],s=100,c=colors[y[i]],label = colors[y[i]]) for i in range(n_samples)]\n",
    "\n",
    "[ax.scatter(model._support_vectors[i][0],model._support_vectors[i][1],s=100,c='y',label = \"y\") for i in range(model._n_support)]\n",
    "def hyperplane(x,w,b,v):\n",
    "    #returns a x2 value on line when given x1\n",
    "    return (-w[0]*x-b+v)/w[1]\n",
    "\n",
    "hyp_x_min= np.min(X)*0.9\n",
    "hyp_x_max = np.max(X) *1.1\n",
    "\n",
    "pav1 = hyperplane(hyp_x_min,model.weights[0],model.intercept,1)\n",
    "pav2 = hyperplane(hyp_x_max,model.weights[0],model.intercept,1)\n",
    "ax.plot([hyp_x_min,hyp_x_max],[pav1,pav2],'k')\n",
    "\n",
    "\n",
    "nav1 = hyperplane(hyp_x_min,model.weights[0],model.intercept,-1)\n",
    "nav2 = hyperplane(hyp_x_max,model.weights[0],model.intercept,-1)\n",
    "ax.plot([hyp_x_min,hyp_x_max],[nav1,nav2],'k')\n",
    "\n",
    "db1 = hyperplane(hyp_x_min,model.weights[0],model.intercept,0)\n",
    "db2 = hyperplane(hyp_x_max,model.weights[0],model.intercept,0)\n",
    "ax.plot([hyp_x_min,hyp_x_max],[db1,db2],'y--')\n",
    "\n"
   ]
  },
  {
   "cell_type": "code",
   "execution_count": null,
   "metadata": {},
   "outputs": [],
   "source": []
  }
 ],
 "metadata": {
  "kernelspec": {
   "display_name": "Python 3",
   "language": "python",
   "name": "python3"
  },
  "language_info": {
   "codemirror_mode": {
    "name": "ipython",
    "version": 3
   },
   "file_extension": ".py",
   "mimetype": "text/x-python",
   "name": "python",
   "nbconvert_exporter": "python",
   "pygments_lexer": "ipython3",
   "version": "3.6.12"
  }
 },
 "nbformat": 4,
 "nbformat_minor": 4
}
