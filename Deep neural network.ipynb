{
 "cells": [
  {
   "cell_type": "markdown",
   "metadata": {},
   "source": [
    "Sample Code 1"
   ]
  },
  {
   "cell_type": "code",
   "execution_count": 9,
   "metadata": {},
   "outputs": [],
   "source": [
    "# self.sigma: Standard deviation of Gaussian distribution\n",
    "# self.lr: Learning rate\n",
    "# self.n_nodes1: Number of nodes in the first layer\n",
    "# self.n_nodes2: Number of nodes in the second layer\n",
    "# self.n_output: Number of nodes in the output layer\n",
    "\n",
    "# optimizer = SGD(self.lr)\n",
    "# self.FC1 = FC(self.n_features, self.n_nodes1, SimpleInitializer(self.sigma), optimizer)\n",
    "# self.activation1 = Tanh()\n",
    "# self.FC2 = FC(self.n_nodes1, self.n_nodes2, SimpleInitializer(self.sigma), optimizer)\n",
    "# self.activation2 = Tanh()\n",
    "# self.FC3 = FC(self.n_nodes2, self.n_output, SimpleInitializer(self.sigma), optimizer)\n",
    "# self.activation3 = Softmax()"
   ]
  },
  {
   "cell_type": "markdown",
   "metadata": {},
   "source": [
    "## Classifying fully connected layers"
   ]
  },
  {
   "cell_type": "code",
   "execution_count": 72,
   "metadata": {},
   "outputs": [],
   "source": [
    "class FC:\n",
    "    \"\"\"\n",
    "    Number of nodes Fully connected layer from n_nodes1 to n_nodes2\n",
    "    Parameters\n",
    "    ----------\n",
    "    n_nodes1 : int\n",
    "      Number of nodes in the previous layer\n",
    "    n_nodes2 : int\n",
    "      Number of nodes in the later layer\n",
    "    initializer: instance of initialization method\n",
    "    optimizer: instance of optimization method\n",
    "    \"\"\"\n",
    "    def __init__(self, n_nodes1, n_nodes2, initializer, optimizer):\n",
    "        self.optimizer = optimizer\n",
    "        # Initialize\n",
    "        # Initialize self.W and self.B using the initializer method\n",
    "        self.n_nodes1 = n_nodes1\n",
    "        self.n_nodes2 = n_nodes2\n",
    "        self.W = initializer.W(n_nodes1,n_nodes2)\n",
    "        self.B = initializer.B(n_nodes2)\n",
    "        self.Hw = 0\n",
    "        self.Hb = 0\n",
    "    def forward(self, X):\n",
    "        \"\"\"\n",
    "        forward\n",
    "        Parameters\n",
    "        ----------\n",
    "        X : The following forms of ndarray, shape (batch_size, n_nodes1)\n",
    "            入力\n",
    "        Returns\n",
    "        ----------\n",
    "        A : The following forms of ndarray, shape (batch_size, n_nodes2)\n",
    "            output\n",
    "        \"\"\"        \n",
    "       \n",
    "        A =  X @self.W + self.B\n",
    "        self.Z = X\n",
    "        return A\n",
    "    def backward(self, dA):\n",
    "        \"\"\"\n",
    "        Backward\n",
    "        Parameters\n",
    "        ----------\n",
    "        dA : The following forms of ndarray, shape (batch_size, n_nodes2)\n",
    "            Gradient flowing from behind\n",
    "        Returns\n",
    "        ----------\n",
    "        dZ : The following forms of ndarray, shape (batch_size, n_nodes1)\n",
    "            Gradient to flow forward\n",
    "        \"\"\"\n",
    "        self.dB = np.sum(dA,axis = 0)\n",
    "        self.dW = self.Z.T@dA\n",
    "        self.dZ = dA @ self.W.T\n",
    "        \n",
    "        # update\n",
    "        self = self.optimizer.update(self)\n",
    "        return self.dZ"
   ]
  },
  {
   "cell_type": "markdown",
   "metadata": {},
   "source": [
    "## Classifying the initialization method"
   ]
  },
  {
   "cell_type": "code",
   "execution_count": 8,
   "metadata": {},
   "outputs": [],
   "source": [
    "class SimpleInitializer:\n",
    "    \"\"\"\n",
    "    Simple initialization with Gaussian distribution\n",
    "    Parameters\n",
    "    ----------\n",
    "    sigma : float\n",
    "      Standard deviation of Gaussian distribution\n",
    "    \"\"\"\n",
    "    def __init__(self, sigma):\n",
    "        self.sigma = sigma\n",
    "    def W(self, n_nodes1, n_nodes2):\n",
    "        \"\"\"\n",
    "        Weight initialization\n",
    "        Parameters\n",
    "        ----------\n",
    "        n_nodes1 : int\n",
    "          Number of nodes in the previous layer\n",
    "        n_nodes2 : int\n",
    "          Number of nodes in the later layer\n",
    "\n",
    "        Returns\n",
    "        ----------\n",
    "        W :\n",
    "        \"\"\"\n",
    "        W = self.sigma *np.random.randn(n_nodes1,n_nodes2)\n",
    "        return W\n",
    "    def B(self, n_nodes2):\n",
    "        \"\"\"\n",
    "        Bias initialization\n",
    "        Parameters\n",
    "        ----------\n",
    "        n_nodes2 : int\n",
    "          Number of nodes in the later layer\n",
    "\n",
    "        Returns\n",
    "        ----------\n",
    "        B :\n",
    "        \"\"\"\n",
    "        B = self.sigma *np.random.randn(n_nodes2)\n",
    "        return B"
   ]
  },
  {
   "cell_type": "markdown",
   "metadata": {},
   "source": [
    "## Classifying optimization methods"
   ]
  },
  {
   "cell_type": "code",
   "execution_count": 68,
   "metadata": {},
   "outputs": [],
   "source": [
    "class SGD:\n",
    "    \"\"\"\n",
    "    Stochastic gradient descent\n",
    "    Parameters\n",
    "    ----------\n",
    "    lr : Learning rate\n",
    "    \"\"\"\n",
    "    def __init__(self, lr):\n",
    "        self.lr = lr\n",
    "    def update(self, layer):\n",
    "        \"\"\"\n",
    "        Update weights and biases for a layer\n",
    "        Parameters\n",
    "        ----------\n",
    "        layer : Instance of the layer before update\n",
    "        \"\"\"\n",
    "        layer.W = layer.W - self.lr*layer.dW\n",
    "        layer.B = layer.B - self.lr*layer.dB\n",
    "        return layer"
   ]
  },
  {
   "cell_type": "markdown",
   "metadata": {},
   "source": [
    "## Classifying activation functions"
   ]
  },
  {
   "cell_type": "code",
   "execution_count": 56,
   "metadata": {},
   "outputs": [],
   "source": [
    "class Softmax:\n",
    "    def forward(self, A): \n",
    "        Z = np.exp(A) / np.sum(np.exp(A), axis=1).reshape(-1, 1)\n",
    "        return Z\n",
    "        \n",
    "    def backward(self, Z, y):\n",
    "        dA = Z - y\n",
    "\n",
    "        return dA\n",
    "    def loss(self,Z,y):\n",
    "        L = - np.sum(y * np.log(Z)) / len(y)\n",
    "        return L"
   ]
  },
  {
   "cell_type": "markdown",
   "metadata": {},
   "source": [
    "## ReLU class creation"
   ]
  },
  {
   "cell_type": "code",
   "execution_count": 49,
   "metadata": {},
   "outputs": [],
   "source": [
    "class ReLU:\n",
    "    def forward(self, A): \n",
    "        self.A = A\n",
    "        A[A <= 0] = 0\n",
    "        return A\n",
    "    \n",
    "    def backward(self, dZ):\n",
    "        dA = dZ*np.array(self.A > 0, np.int)\n",
    "        return dA\n",
    "    \n",
    "class Sigmoid:\n",
    "\n",
    "    def forward(self, A):\n",
    "        self.A = A\n",
    "        Z = 1 / (1 + np.exp(-self.A))\n",
    "        return Z\n",
    "    \n",
    "    def backward(self, dZ):\n",
    "        dA = dZ * ((1 / (1 + np.exp(-self.A))) - (1 / (1 + np.exp(-self.A)))**2)\n",
    "        return dA\n",
    "    \n",
    "class Tanh:\n",
    "\n",
    "    def forward(self, A):\n",
    "        self.A = A\n",
    "        Z = np.tanh(self.A)\n",
    "        return Z\n",
    "    \n",
    "    def backward(self, dZ):\n",
    "        dA = dZ * (1 - np.tanh(self.A)**2)\n",
    "        return dA\n",
    "    \n",
    "        \n",
    "        "
   ]
  },
  {
   "cell_type": "code",
   "execution_count": 13,
   "metadata": {},
   "outputs": [],
   "source": [
    "class XavierInitializer:\n",
    "    def __init__(self,sigma):\n",
    "        self.sigma =sigma\n",
    "        \n",
    "    def W(self, n_nodes1, n_nodes2):\n",
    "      \n",
    "        self.sigma = 1/np.sqrt(n_nodes1)\n",
    "        W = self.sigma *np.random.randn(n_nodes1,n_nodes2)\n",
    "        return W\n",
    "    \n",
    "    def B(self,n_nodes2):\n",
    "        B = self.sigma *np.random.randn(n_nodes2)\n",
    "        return B\n",
    "       \n",
    "        \n",
    "        "
   ]
  },
  {
   "cell_type": "code",
   "execution_count": 14,
   "metadata": {},
   "outputs": [],
   "source": [
    "class HeInitializer:\n",
    "    def __init__(self,sigma):\n",
    "        self.sigma =sigma\n",
    "    def W(self, n_nodes1, n_nodes2):\n",
    "      \n",
    "        self.sigma = np.sqrt(2/n_nodes1)\n",
    "        W = self.sigma *np.random.randn(n_nodes1,n_nodes2)\n",
    "        return W\n",
    "    \n",
    "    def B(self,n_nodes2):\n",
    "        B = self.sigma *np.random.randn(n_nodes2)\n",
    "        return B"
   ]
  },
  {
   "cell_type": "markdown",
   "metadata": {},
   "source": [
    "## Optimization method"
   ]
  },
  {
   "cell_type": "code",
   "execution_count": 109,
   "metadata": {},
   "outputs": [],
   "source": [
    "class AdaGrad:\n",
    "    def __init__(self,lr):\n",
    "        self.lr = lr\n",
    "        \n",
    "    def update(self,layer):\n",
    "        layer.Hw += layer.dW * layer.dW\n",
    "        layer.Hb += layer.dB * layer.dB\n",
    "        alpha = 1e-7\n",
    "        layer.W = layer.W - self.lr*(1/np.sqrt(layer.Hw+alpha))*layer.dW\n",
    "        layer.B = layer.B - self.lr*(1/np.sqrt(layer.Hb+alpha))*layer.dB\n",
    "        return layer"
   ]
  },
  {
   "cell_type": "markdown",
   "metadata": {},
   "source": [
    "## Class completion"
   ]
  },
  {
   "cell_type": "code",
   "execution_count": 83,
   "metadata": {},
   "outputs": [],
   "source": [
    "class ScratchDeepNeuralNetworkClassifier():\n",
    "    \"\"\"\n",
    "    Simple three-layer neural network classifier\n",
    "    Parameters\n",
    "    ----------\n",
    "    Attributes\n",
    "    ----------\n",
    "    \"\"\"\n",
    "    def __init__(self, n_nodes1 ,n_nodes2, n_output ,batch_size ,epochs,sigma=0.02,optimizer=SGD,activation_function = \"sigmoid\",lr = 0.01,bias = False,verbose = True):\n",
    "        self.verbose = verbose\n",
    "        self.n_nodes1= n_nodes1\n",
    "        self.n_nodes2 = n_nodes2\n",
    "        self.n_output = n_output \n",
    "        self.batch_size = batch_size\n",
    "        self.lr = lr\n",
    "        self.sigma = sigma\n",
    "\n",
    "        self.check_bias = bias\n",
    "        self.activation_function = activation_function\n",
    "        self.epochs = epochs\n",
    "        self.optimizer = optimizer(self.lr)\n",
    "    def fit(self, X, y, X_val=None, y_val=None):\n",
    "        self.initializer = self.get_initializer()\n",
    "        \n",
    "        self.FC1 = FC(X.shape[1],self.n_nodes1,self.initializer,self.optimizer)\n",
    "        self.FC2 = FC(self.n_nodes1,self.n_nodes2,self.initializer,self.optimizer)\n",
    "        self.FC3 = FC(self.n_nodes2, self.n_output,self.initializer,self.optimizer)\n",
    "        \n",
    "        self.activation1 = self.get_activation()\n",
    "        self.activation2 = self.get_activation()\n",
    "        self.activation3 = Softmax()\n",
    "            \n",
    "        get_mini_batch = GetMiniBatch(X,y,self.batch_size)\n",
    "        self.loss_train = []\n",
    "        self.loss_val = []\n",
    "        for epoch in range(self.epochs):  \n",
    "            for mini_X_train, mini_y_train in get_mini_batch:\n",
    "\n",
    "                self.forward(mini_X_train)\n",
    "#                \n",
    "                self.backward(mini_X_train,mini_y_train)\n",
    "#             break\n",
    "            self.forward(X)\n",
    "            self.loss_train.append(self.activation3.loss(self.result,y))\n",
    "            if X_val is not None:\n",
    "                self.forward(X_val)\n",
    "                self.loss_val.append(self.activation3.loss(self.result,y_val))\n",
    "            \n",
    "\n",
    "    \n",
    "        \n",
    "        \"\"\"\n",
    "        Learn a neural network classifier.\n",
    "        Parameters\n",
    "        ----------\n",
    "        X : The following forms of ndarray, shape (n_samples, n_features)\n",
    "            Features of training data\n",
    "        y : The following form of ndarray, shape (n_samples,)\n",
    "            Correct answer value of training data\n",
    "        X_val : The following forms of ndarray, shape (n_samples, n_features)\n",
    "            Features of verification data\n",
    "        y_val : The following form of ndarray, shape (n_samples,)\n",
    "            Correct value of verification data\n",
    "        \"\"\"\n",
    "        \n",
    "        if self.verbose:\n",
    "             #verbose is set to True, the learning process etc. is output.\n",
    "            print(self.loss_train)\n",
    "    def get_initializer(self):\n",
    "        if self.activation_function == \"sigmoid\" or self.activation_function == \"tanh\":\n",
    "            return XavierInitializer(self.sigma)\n",
    "        elif self.activation_function == \"relu\":\n",
    "            return HeInitializer(self.sigma)\n",
    "    \n",
    "    def get_activation(self):\n",
    "        if self.activation_function == \"sigmoid\" :\n",
    "            return Sigmoid()\n",
    "        elif self.activation_function == \"tanh\":\n",
    "            return Tanh()\n",
    "        elif self.activation_function == \"relu\":\n",
    "            return ReLU()\n",
    "\n",
    "        \n",
    "    \n",
    "        \n",
    "       \n",
    "    def forward(self,X):\n",
    "        A1 = self.FC1.forward(X)\n",
    "        Z1 = self.activation1.forward(A1)\n",
    "\n",
    "        A2 = self.FC2.forward(Z1)\n",
    "\n",
    "        Z2 = self.activation2.forward(A2)\n",
    "\n",
    "        A3 = self.FC3.forward(Z2)\n",
    "\n",
    "        Z3 = self.activation3.forward(A3)\n",
    "        self.result = Z3\n",
    "\n",
    "        \n",
    "\n",
    "    def backward(self,X,y):\n",
    " \n",
    "        dA3 = self.activation3.backward(self.result,y)\n",
    "        dZ2 = self.FC3.backward(dA3)\n",
    "        dA2 = self.activation2.backward(dZ2)\n",
    "        dZ1 = self.FC2.backward(dA2)\n",
    "        dA1 = self.activation1.backward(dZ1)\n",
    "        dZ0 = self.FC1.backward(dA1)\n",
    "       \n",
    "        \n",
    "\n",
    "    def derivative(self,A,d):\n",
    "        if self.activation_function == \"sigmoid\":\n",
    "            dA = d*(1 / (1 + np.exp(-A)))*(1-(1 / (1 + np.exp(-A))))\n",
    "            return dA\n",
    "        elif self.activation_function == \" tanh\":\n",
    "            dA = d*(1- np.tanh(A)**2)\n",
    "            return dA\n",
    "        \n",
    "\n",
    "        \n",
    "\n",
    "        \n",
    "    def predict(self, X):\n",
    "        \"\"\"\n",
    "        Estimate using a neural network classifier.\n",
    "        Parameters\n",
    "        ----------\n",
    "        X : The following forms of ndarray, shape (n_samples, n_features)\n",
    "            sample\n",
    "        Returns\n",
    "        -------\n",
    "            The following form of ndarray, shape (n_samples, 1)\n",
    "            Estimated result\n",
    "        \"\"\"\n",
    "        self.forward(X)\n",
    "        return np.argmax(self.result,axis = 1)\n",
    "        \n",
    "      \n",
    "    \n",
    "class GetMiniBatch:\n",
    "    \"\"\"\n",
    "Iterator to get a mini-batch\n",
    "    Parameters\n",
    "    ----------\n",
    "    X : The following forms of ndarray, shape (n_samples, n_features)\n",
    "      Training data\n",
    "    y : The following form of ndarray, shape (n_samples, 1)\n",
    "      Correct answer value\n",
    "    batch_size : int\n",
    "      Batch size\n",
    "    seed : int\n",
    "      NumPy random number seed\n",
    "    \"\"\"\n",
    "    def __init__(self, X, y, batch_size = 20, seed=0):\n",
    "        self.batch_size = batch_size\n",
    "        np.random.seed(seed)\n",
    "        shuffle_index = np.random.permutation(np.arange(X.shape[0]))\n",
    "        self._X = X[shuffle_index]\n",
    "        self._y = y[shuffle_index]\n",
    "        self._stop = np.ceil(X.shape[0]/self.batch_size).astype(np.int)\n",
    "    def __len__(self):\n",
    "        return self._stop\n",
    "    def __getitem__(self,item):\n",
    "        p0 = item*self.batch_size\n",
    "        p1 = item*self.batch_size + self.batch_size\n",
    "        return self._X[p0:p1], self._y[p0:p1]        \n",
    "    def __iter__(self):\n",
    "        self._counter = 0\n",
    "        return self\n",
    "    def __next__(self):\n",
    "        if self._counter >= self._stop:\n",
    "            raise StopIteration()\n",
    "        p0 = self._counter*self.batch_size\n",
    "        p1 = self._counter*self.batch_size + self.batch_size\n",
    "        self._counter += 1\n",
    "        return self._X[p0:p1], self._y[p0:p1]"
   ]
  },
  {
   "cell_type": "markdown",
   "metadata": {},
   "source": [
    "## Learning and estimation"
   ]
  },
  {
   "cell_type": "code",
   "execution_count": 20,
   "metadata": {},
   "outputs": [],
   "source": [
    "from tensorflow.keras.datasets import mnist\n",
    "(X_train, y_train), (X_test, y_test) = mnist.load_data()"
   ]
  },
  {
   "cell_type": "code",
   "execution_count": 21,
   "metadata": {},
   "outputs": [],
   "source": [
    "X_train = X_train.reshape(-1, 784)\n",
    "X_test = X_test.reshape(-1, 784)"
   ]
  },
  {
   "cell_type": "code",
   "execution_count": 22,
   "metadata": {},
   "outputs": [],
   "source": [
    "X_train = X_train.astype(np.float)\n",
    "X_test = X_test.astype(np.float)\n",
    "X_train /= 255\n",
    "X_test /= 255"
   ]
  },
  {
   "cell_type": "code",
   "execution_count": 23,
   "metadata": {},
   "outputs": [],
   "source": [
    "from sklearn.preprocessing import OneHotEncoder\n",
    "enc = OneHotEncoder(handle_unknown='ignore', sparse=False)\n",
    "y_train_one_hot = enc.fit_transform(y_train[:, np.newaxis])\n",
    "y_test_one_hot = enc.transform(y_test[:, np.newaxis])"
   ]
  },
  {
   "cell_type": "code",
   "execution_count": 24,
   "metadata": {},
   "outputs": [],
   "source": [
    "from sklearn.model_selection import train_test_split\n",
    "X_train_new, X_val, y_train_new, y_val = train_test_split(X_train, y_train_one_hot, test_size=0.2)"
   ]
  },
  {
   "cell_type": "code",
   "execution_count": 84,
   "metadata": {},
   "outputs": [],
   "source": [
    "model = ScratchDeepNeuralNetworkClassifier(400 ,200, 10 ,20 ,10,activation_function = \"sigmoid\",lr = 0.01,bias = False,verbose = True)"
   ]
  },
  {
   "cell_type": "code",
   "execution_count": 85,
   "metadata": {},
   "outputs": [
    {
     "name": "stdout",
     "output_type": "stream",
     "text": [
      "[0.30762750298731273, 0.23807805403178153, 0.188542565943999, 0.15113424924742025, 0.12531006019572125, 0.10617291611866063, 0.09105703933648615, 0.07875791638780166, 0.06861854445259641, 0.060186141281533725]\n"
     ]
    }
   ],
   "source": [
    "model.fit(X_train_new,y_train_new,X_val,y_val)"
   ]
  },
  {
   "cell_type": "code",
   "execution_count": 86,
   "metadata": {},
   "outputs": [
    {
     "data": {
      "text/plain": [
       "0.9702"
      ]
     },
     "execution_count": 86,
     "metadata": {},
     "output_type": "execute_result"
    }
   ],
   "source": [
    "from sklearn.metrics import accuracy_score\n",
    "predict = model.predict(X_test)\n",
    "accuracy_score(predict,y_test)"
   ]
  },
  {
   "cell_type": "code",
   "execution_count": 88,
   "metadata": {},
   "outputs": [
    {
     "data": {
      "image/png": "[encoded data removed]",
      "text/plain": [
       "<Figure size 432x288 with 1 Axes>"
      ]
     },
     "metadata": {
      "needs_background": "light"
     },
     "output_type": "display_data"
    }
   ],
   "source": [
    "import matplotlib.pyplot as plt\n",
    "%matplotlib inline\n",
    "plt.plot(range(1, model.epochs + 1), model.loss_train, color=\"r\", marker=\"o\", label=\"train loss\")\n",
    "\n",
    "plt.plot(range(1, model.epochs + 1), model.loss_val, color=\"g\", marker=\"o\", label=\"val loss\")\n",
    "\n",
    "plt.title(\"Learning Curve\")\n",
    "plt.xlabel(\"Epoch\")\n",
    "plt.ylabel(\"Loss\")\n",
    "plt.grid()\n",
    "plt.legend(loc=\"best\")\n",
    "plt.show()"
   ]
  },
  {
   "cell_type": "code",
   "execution_count": 89,
   "metadata": {},
   "outputs": [],
   "source": [
    "model = ScratchDeepNeuralNetworkClassifier(400 ,200, 10 ,20 ,10,activation_function = \"relu\",lr = 0.01,bias = False,verbose = True)"
   ]
  },
  {
   "cell_type": "code",
   "execution_count": 90,
   "metadata": {},
   "outputs": [
    {
     "name": "stdout",
     "output_type": "stream",
     "text": [
      "[0.08850783592706093, 0.05330277051151308, 0.035698262117637186, 0.023742056125033134, 0.031220523173337237, 0.01891710311052597, 0.02012520707496376, 0.014463888582985729, 0.016199991924039953, 0.009955463015854477]\n"
     ]
    }
   ],
   "source": [
    "model.fit(X_train_new,y_train_new,X_val,y_val)"
   ]
  },
  {
   "cell_type": "code",
   "execution_count": 91,
   "metadata": {},
   "outputs": [
    {
     "data": {
      "text/plain": [
       "0.9801"
      ]
     },
     "execution_count": 91,
     "metadata": {},
     "output_type": "execute_result"
    }
   ],
   "source": [
    "predict = model.predict(X_test)\n",
    "accuracy_score(predict,y_test)"
   ]
  },
  {
   "cell_type": "code",
   "execution_count": 92,
   "metadata": {},
   "outputs": [
    {
     "data": {
      "image/png": "[encoded data removed]",
      "text/plain": [
       "<Figure size 432x288 with 1 Axes>"
      ]
     },
     "metadata": {
      "needs_background": "light"
     },
     "output_type": "display_data"
    }
   ],
   "source": [
    "plt.plot(range(1, model.epochs + 1), model.loss_train, color=\"r\", marker=\"o\", label=\"train loss\")\n",
    "\n",
    "plt.plot(range(1, model.epochs + 1), model.loss_val, color=\"g\", marker=\"o\", label=\"val loss\")\n",
    "\n",
    "plt.title(\"Learning Curve\")\n",
    "plt.xlabel(\"Epoch\")\n",
    "plt.ylabel(\"Loss\")\n",
    "plt.grid()\n",
    "plt.legend(loc=\"best\")\n",
    "plt.show()"
   ]
  },
  {
   "cell_type": "code",
   "execution_count": 110,
   "metadata": {},
   "outputs": [],
   "source": [
    "class ScratchDeepNeuralNetworkClassifier4layers():\n",
    "    \"\"\"\n",
    "    Simple three-layer neural network classifier\n",
    "    Parameters\n",
    "    ----------\n",
    "    Attributes\n",
    "    ----------\n",
    "    \"\"\"\n",
    "    def __init__(self, n_nodes1 ,n_nodes2,n_nodes3, n_output ,batch_size ,epochs,sigma=0.02,optimizer=SGD,activation_function = \"sigmoid\",lr = 0.01,bias = False,verbose = True):\n",
    "        self.verbose = verbose\n",
    "        self.n_nodes1= n_nodes1\n",
    "        self.n_nodes2 = n_nodes2\n",
    "        self.n_nodes3 = n_nodes3\n",
    "        self.n_output = n_output \n",
    "        self.batch_size = batch_size\n",
    "        self.lr = lr\n",
    "        self.sigma = sigma\n",
    "\n",
    "        self.check_bias = bias\n",
    "        self.activation_function = activation_function\n",
    "        self.epochs = epochs\n",
    "        self.optimizer = optimizer(self.lr)\n",
    "    def fit(self, X, y, X_val=None, y_val=None):\n",
    "        self.initializer = self.get_initializer()\n",
    "        \n",
    "        self.FC1 = FC(X.shape[1],self.n_nodes1,self.initializer,self.optimizer)\n",
    "        self.FC2 = FC(self.n_nodes1,self.n_nodes2,self.initializer,self.optimizer)\n",
    "        self.FC3 = FC(self.n_nodes2, self.n_nodes3,self.initializer,self.optimizer)\n",
    "        self.FC4 = FC(self.n_nodes3, self.n_output,self.initializer,self.optimizer)\n",
    "        \n",
    "        self.activation1 = self.get_activation()\n",
    "        self.activation2 = self.get_activation()\n",
    "        self.activation3 = self.get_activation()\n",
    "        self.activation4 = Softmax()\n",
    "            \n",
    "        get_mini_batch = GetMiniBatch(X,y,self.batch_size)\n",
    "        self.loss_train = []\n",
    "        self.loss_val = []\n",
    "        for epoch in range(self.epochs):  \n",
    "            for mini_X_train, mini_y_train in get_mini_batch:\n",
    "\n",
    "                self.forward(mini_X_train)\n",
    "#                \n",
    "                self.backward(mini_X_train,mini_y_train)\n",
    "#             break\n",
    "            self.forward(X)\n",
    "            self.loss_train.append(self.activation4.loss(self.result,y))\n",
    "            if X_val is not None:\n",
    "                self.forward(X_val)\n",
    "                self.loss_val.append(self.activation4.loss(self.result,y_val))\n",
    "            \n",
    "\n",
    "    \n",
    "        \n",
    "        \"\"\"\n",
    "        Learn a neural network classifier.\n",
    "        Parameters\n",
    "        ----------\n",
    "        X : The following forms of ndarray, shape (n_samples, n_features)\n",
    "            Features of training data\n",
    "        y : The following form of ndarray, shape (n_samples,)\n",
    "            Correct answer value of training data\n",
    "        X_val : The following forms of ndarray, shape (n_samples, n_features)\n",
    "            Features of verification data\n",
    "        y_val : The following form of ndarray, shape (n_samples,)\n",
    "            Correct value of verification data\n",
    "        \"\"\"\n",
    "        \n",
    "        if self.verbose:\n",
    "             #verbose is set to True, the learning process etc. is output.\n",
    "            print(self.loss_train)\n",
    "    def get_initializer(self):\n",
    "        if self.activation_function == \"sigmoid\" or self.activation_function == \"tanh\":\n",
    "            return XavierInitializer(self.sigma)\n",
    "        elif self.activation_function == \"relu\":\n",
    "            return HeInitializer(self.sigma)\n",
    "    \n",
    "    def get_activation(self):\n",
    "        if self.activation_function == \"sigmoid\" :\n",
    "            return Sigmoid()\n",
    "        elif self.activation_function == \"tanh\":\n",
    "            return Tanh()\n",
    "        elif self.activation_function == \"relu\":\n",
    "            return ReLU()\n",
    "\n",
    "        \n",
    "    \n",
    "        \n",
    "       \n",
    "    def forward(self,X):\n",
    "        A1 = self.FC1.forward(X)\n",
    "        Z1 = self.activation1.forward(A1)\n",
    "\n",
    "        A2 = self.FC2.forward(Z1)\n",
    "\n",
    "        Z2 = self.activation2.forward(A2)\n",
    "\n",
    "        A3 = self.FC3.forward(Z2)\n",
    "\n",
    "        Z3 = self.activation3.forward(A3)\n",
    "        \n",
    "        A4 = self.FC4.forward(Z3)\n",
    "        \n",
    "        Z4 = self.activation4.forward(A4)\n",
    "        self.result = Z4\n",
    "\n",
    "        \n",
    "\n",
    "    def backward(self,X,y):\n",
    "        dA4 = self.activation4.backward(self.result,y)\n",
    "        dZ3 = self.FC4.backward(dA4)\n",
    "        dA3 = self.activation3.backward(dZ3)\n",
    "        dZ2 = self.FC3.backward(dA3)\n",
    "        dA2 = self.activation2.backward(dZ2)\n",
    "        dZ1 = self.FC2.backward(dA2)\n",
    "        dA1 = self.activation1.backward(dZ1)\n",
    "        dZ0 = self.FC1.backward(dA1)\n",
    "       \n",
    "        \n",
    "\n",
    "    def derivative(self,A,d):\n",
    "        if self.activation_function == \"sigmoid\":\n",
    "            dA = d*(1 / (1 + np.exp(-A)))*(1-(1 / (1 + np.exp(-A))))\n",
    "            return dA\n",
    "        elif self.activation_function == \" tanh\":\n",
    "            dA = d*(1- np.tanh(A)**2)\n",
    "            return dA\n",
    "        \n",
    "\n",
    "        \n",
    "\n",
    "        \n",
    "    def predict(self, X):\n",
    "        \"\"\"\n",
    "        Estimate using a neural network classifier.\n",
    "        Parameters\n",
    "        ----------\n",
    "        X : The following forms of ndarray, shape (n_samples, n_features)\n",
    "            sample\n",
    "        Returns\n",
    "        -------\n",
    "            The following form of ndarray, shape (n_samples, 1)\n",
    "            Estimated result\n",
    "        \"\"\"\n",
    "        self.forward(X)\n",
    "        return np.argmax(self.result,axis = 1)\n",
    "        \n",
    "      "
   ]
  },
  {
   "cell_type": "code",
   "execution_count": 111,
   "metadata": {},
   "outputs": [],
   "source": [
    "model = ScratchDeepNeuralNetworkClassifier4layers(400 ,200,100, 10 ,20 ,10,optimizer = AdaGrad,activation_function = \"relu\",lr = 0.01,bias = False,verbose = True)"
   ]
  },
  {
   "cell_type": "code",
   "execution_count": 112,
   "metadata": {},
   "outputs": [
    {
     "name": "stdout",
     "output_type": "stream",
     "text": [
      "[0.0845541829283157, 0.05264536774076185, 0.0370367705788821, 0.026624461710396875, 0.01970520483578441, 0.014656895438732219, 0.011021413530939689, 0.008483874124114124, 0.0063903165444555805, 0.004782759129474072]\n"
     ]
    }
   ],
   "source": [
    "model.fit(X_train_new,y_train_new,X_val,y_val)"
   ]
  },
  {
   "cell_type": "code",
   "execution_count": 113,
   "metadata": {},
   "outputs": [
    {
     "data": {
      "text/plain": [
       "0.9796"
      ]
     },
     "execution_count": 113,
     "metadata": {},
     "output_type": "execute_result"
    }
   ],
   "source": [
    "predict = model.predict(X_test)\n",
    "accuracy_score(predict,y_test)"
   ]
  },
  {
   "cell_type": "code",
   "execution_count": 114,
   "metadata": {},
   "outputs": [
    {
     "data": {
      "image/png": "[encoded data removed]",
      "text/plain": [
       "<Figure size 432x288 with 1 Axes>"
      ]
     },
     "metadata": {
      "needs_background": "light"
     },
     "output_type": "display_data"
    }
   ],
   "source": [
    "plt.plot(range(1, model.epochs + 1), model.loss_train, color=\"r\", marker=\"o\", label=\"train loss\")\n",
    "\n",
    "plt.plot(range(1, model.epochs + 1), model.loss_val, color=\"g\", marker=\"o\", label=\"val loss\")\n",
    "\n",
    "plt.title(\"Learning Curve\")\n",
    "plt.xlabel(\"Epoch\")\n",
    "plt.ylabel(\"Loss\")\n",
    "plt.grid()\n",
    "plt.legend(loc=\"best\")\n",
    "plt.show()"
   ]
  },
  {
   "cell_type": "code",
   "execution_count": null,
   "metadata": {},
   "outputs": [],
   "source": []
  }
 ],
 "metadata": {
  "kernelspec": {
   "display_name": "Python 3",
   "language": "python",
   "name": "python3"
  },
  "language_info": {
   "codemirror_mode": {
    "name": "ipython",
    "version": 3
   },
   "file_extension": ".py",
   "mimetype": "text/x-python",
   "name": "python",
   "nbconvert_exporter": "python",
   "pygments_lexer": "ipython3",
   "version": "3.6.12"
  }
 },
 "nbformat": 4,
 "nbformat_minor": 4
}
