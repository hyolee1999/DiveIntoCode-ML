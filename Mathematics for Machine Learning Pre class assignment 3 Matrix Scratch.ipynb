{
 "cells": [
  {
   "cell_type": "markdown",
   "metadata": {},
   "source": [
    "# Matrix product"
   ]
  },
  {
   "cell_type": "markdown",
   "metadata": {},
   "source": [
    "## [Problem 1]: Matrix product is calculated manually"
   ]
  },
  {
   "cell_type": "markdown",
   "metadata": {},
   "source": [
    "For a position (n,m) of matrix C, it would be calculated using dot product from row n from the matrix A and column m of matrix B.\n",
    "\n",
    "To solve the above problem, we calculate each elements:\n",
    "<br>\n",
    "C[0,0] = A[0,0]xB[0,0] + A[0,1]xB[1,0] + A[0,2]xB[2,0] = 6\n",
    "<br>\n",
    "C[0,1] = A[0,0]xB[0,1] + A[0,1]xB[1,1] + A[0,2]xB[2,1] = 29\n",
    "<br>\n",
    "C[0,2] = A[0,0]xB[0,2] + A[0,1]xB[1,2] + A[0,2]xB[2,2] = -20\n",
    "<br>\n",
    "C[1,0] = A[1,0]xB[0,0] + A[1,1]xB[1,0] + A[1,2]xB[2,0] = 12\n",
    "\n",
    "The rest is similar\n",
    "\n",
    "The result :\n",
    "$[[  6,  29, -20], \\\\\n",
    "       [ 12,  52,  38], \\\\\n",
    "       [-18, -51, -48]]$\n"
   ]
  },
  {
   "cell_type": "markdown",
   "metadata": {},
   "source": [
    "## [Problem 2] Calculation by NumPy function"
   ]
  },
  {
   "cell_type": "code",
   "execution_count": 1,
   "metadata": {},
   "outputs": [
    {
     "data": {
      "text/plain": [
       "array([[  6,  29, -20],\n",
       "       [ 12,  52,  38],\n",
       "       [-18, -51, -48]])"
      ]
     },
     "execution_count": 1,
     "metadata": {},
     "output_type": "execute_result"
    }
   ],
   "source": [
    "import numpy as np\n",
    "a_ndarray = np.array([[-1, 2, 3], [4, -5, 6], [7, 8, -9]])\n",
    "b_ndarray = np.array([[0, 2, 1], [0, 2, -8], [2, 9, -1]])\n",
    "a_ndarray@b_ndarray"
   ]
  },
  {
   "cell_type": "markdown",
   "metadata": {},
   "source": [
    "## [Problem 3]: Implementation of calculation of a certain element\n"
   ]
  },
  {
   "cell_type": "code",
   "execution_count": 6,
   "metadata": {},
   "outputs": [
    {
     "data": {
      "text/plain": [
       "6"
      ]
     },
     "execution_count": 6,
     "metadata": {},
     "output_type": "execute_result"
    }
   ],
   "source": [
    "value = 0\n",
    "for i in range(a_ndarray.shape[1]):\n",
    "    value += a_ndarray[0,i]*b_ndarray[i,0]\n",
    "value"
   ]
  },
  {
   "cell_type": "markdown",
   "metadata": {},
   "source": [
    "## [Problem 4]: Creating a function that performs matrix multiplication"
   ]
  },
  {
   "cell_type": "code",
   "execution_count": 8,
   "metadata": {},
   "outputs": [
    {
     "data": {
      "text/plain": [
       "array([[  6,  29, -20],\n",
       "       [ 12,  52,  38],\n",
       "       [-18, -51, -48]])"
      ]
     },
     "execution_count": 8,
     "metadata": {},
     "output_type": "execute_result"
    }
   ],
   "source": [
    "def matrix_multiply(matrix_a,matrix_b):\n",
    "    value = np.zeros_like(matrix_a)\n",
    "    for i in range(matrix_a.shape[1]):\n",
    "        for j in range(matrix_a.shape[0]):\n",
    "            value[i,j] = np.sum(matrix_a[i,:]*matrix_b[:,j])\n",
    "    return value\n",
    "\n",
    "result = matrix_multiply(a_ndarray,b_ndarray)\n",
    "result"
   ]
  },
  {
   "cell_type": "markdown",
   "metadata": {},
   "source": [
    "## [Problem 5] Judge the input whose calculation is not defined"
   ]
  },
  {
   "cell_type": "code",
   "execution_count": 9,
   "metadata": {},
   "outputs": [
    {
     "data": {
      "text/plain": [
       "array([[  6,  29, -20],\n",
       "       [ 12,  52,  38],\n",
       "       [-18, -51, -48]])"
      ]
     },
     "execution_count": 9,
     "metadata": {},
     "output_type": "execute_result"
    }
   ],
   "source": [
    "def matrix_multiply(matrix_a,matrix_b):\n",
    "    if matrix_a.shape[1] != matrix_b.shape[0]:\n",
    "        print(\"The number of columns of first matrix  is not equal to the number of rows of second matrix \")\n",
    "    value = np.zeros_like(matrix_a)\n",
    "    for i in range(matrix_a.shape[1]):\n",
    "        for j in range(matrix_a.shape[0]):\n",
    "            value[i,j] = np.sum(matrix_a[i,:]*matrix_b[:,j])\n",
    "    return value\n",
    "result = matrix_multiply(a_ndarray,b_ndarray)\n",
    "result"
   ]
  },
  {
   "cell_type": "markdown",
   "metadata": {},
   "source": [
    "##[ Problem 6: Transposition"
   ]
  }
 ],
 "metadata": {
  "kernelspec": {
   "display_name": "Python 3",
   "language": "python",
   "name": "python3"
  },
  "language_info": {
   "codemirror_mode": {
    "name": "ipython",
    "version": 3
   },
   "file_extension": ".py",
   "mimetype": "text/x-python",
   "name": "python",
   "nbconvert_exporter": "python",
   "pygments_lexer": "ipython3",
   "version": "3.6.12"
  }
 },
 "nbformat": 4,
 "nbformat_minor": 4
}
