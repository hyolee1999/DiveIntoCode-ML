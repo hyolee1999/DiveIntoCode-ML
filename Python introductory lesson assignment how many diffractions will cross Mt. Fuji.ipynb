{
 "cells": [
  {
   "cell_type": "code",
   "execution_count": 1,
   "metadata": {},
   "outputs": [],
   "source": [
    "import math"
   ]
  },
  {
   "cell_type": "markdown",
   "metadata": {},
   "source": [
    "# The number of times a piece of paper needs to be folded to exceed Mt. Fuji"
   ]
  },
  {
   "cell_type": "markdown",
   "metadata": {},
   "source": [
    "## [Problem 1]: Minimum number of folds over Mt. Fuji"
   ]
  },
  {
   "cell_type": "code",
   "execution_count": 2,
   "metadata": {},
   "outputs": [
    {
     "name": "stdout",
     "output_type": "stream",
     "text": [
      "The thickness will exceeds Mt. Fuji after 26 times\n"
     ]
    }
   ],
   "source": [
    "def count_fold():\n",
    "    return math.ceil(math.log2(3776/0.00008))\n",
    "print(\"The thickness will exceeds Mt. Fuji after {} times\".format(count_fold()))"
   ]
  },
  {
   "cell_type": "markdown",
   "metadata": {},
   "source": [
    "## [Problem 2] Creating a function corresponding to an arbitrary thickness\n",
    "The nearest triple-star system is Alpha Centauri and exactly is third star in the system Proxima Centauri which 9.44 trillion km away from the earth."
   ]
  },
  {
   "cell_type": "code",
   "execution_count": 5,
   "metadata": {},
   "outputs": [
    {
     "name": "stdout",
     "output_type": "stream",
     "text": [
      "The thickness will exceeds Proxima Centauri after 67 times\n"
     ]
    }
   ],
   "source": [
    "def count_fold_customize(distance):\n",
    "    return math.ceil(math.log2(distance/0.00008))\n",
    "nearest_star_distance = count_fold_customize( 9.44*math.pow(10,15) )\n",
    "print(\"The thickness will exceeds Proxima Centauri after {} times\".format(nearest_star_distance))"
   ]
  },
  {
   "cell_type": "markdown",
   "metadata": {},
   "source": [
    "## [Problem 3] Required paper length"
   ]
  },
  {
   "cell_type": "code",
   "execution_count": 6,
   "metadata": {},
   "outputs": [
    {
     "name": "stdout",
     "output_type": "stream",
     "text": [
      "Length of toilet paper needed to reach Moon: 3.2409194441707805e+23 meters\n",
      "Length of toilet paper needed to reach Mt.FUji: 18864634848724.016 meters\n",
      "Length of toilet paper needed to reach Proxima Centauri: 9.122377250687717e+37 meters\n"
     ]
    }
   ],
   "source": [
    "def toilet_paper_length(distance):\n",
    "    num_of_fold = count_fold_customize(distance) \n",
    "    return (math.pi*0.008*(math.pow(2,num_of_fold)+4)*(math.pow(2,num_of_fold)-1))/6 \n",
    "print(\"Length of toilet paper needed to reach Moon: {} meters\".format(toilet_paper_length(384400000)))\n",
    "print(\"Length of toilet paper needed to reach Mt.FUji: {} meters\".format(toilet_paper_length(3776)))\n",
    "print(\"Length of toilet paper needed to reach Proxima Centauri: {} meters\".format(toilet_paper_length(9.44*math.pow(10,15))))"
   ]
  },
  {
   "cell_type": "code",
   "execution_count": null,
   "metadata": {},
   "outputs": [],
   "source": []
  }
 ],
 "metadata": {
  "kernelspec": {
   "display_name": "Python 3",
   "language": "python",
   "name": "python3"
  },
  "language_info": {
   "codemirror_mode": {
    "name": "ipython",
    "version": 3
   },
   "file_extension": ".py",
   "mimetype": "text/x-python",
   "name": "python",
   "nbconvert_exporter": "python",
   "pygments_lexer": "ipython3",
   "version": "3.6.12"
  }
 },
 "nbformat": 4,
 "nbformat_minor": 4
}
