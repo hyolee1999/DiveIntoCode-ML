{
 "cells": [
  {
   "cell_type": "code",
   "execution_count": 1,
   "metadata": {},
   "outputs": [],
   "source": [
    "import math"
   ]
  },
  {
   "cell_type": "markdown",
   "metadata": {},
   "source": [
    "# The chestnut bun problem"
   ]
  },
  {
   "cell_type": "markdown",
   "metadata": {},
   "source": [
    "## [Problem]: The day when chestnut buns cover the solar system"
   ]
  },
  {
   "cell_type": "code",
   "execution_count": 4,
   "metadata": {},
   "outputs": [
    {
     "name": "stdout",
     "output_type": "stream",
     "text": [
      "It takes 2.9216191870136523e+37 hours, 1.2173413279223551e+36 days to cover the solar system with chestnut buns\n"
     ]
    }
   ],
   "source": [
    "solar_system_volume = 4*math.pi*math.pow(747989353455,3)/3\n",
    "def genetic_function(obj,space):\n",
    "    increase_tim = math.ceil(space/obj)\n",
    "    hour_amount = increase_tim/12\n",
    "    return hour_amount\n",
    "time = genetic_function(0.005,solar_system_volume)\n",
    "print(\"It takes {} hours, {} days to cover the solar system with chestnut buns\".format(time,time/24))"
   ]
  },
  {
   "cell_type": "code",
   "execution_count": null,
   "metadata": {},
   "outputs": [],
   "source": []
  }
 ],
 "metadata": {
  "kernelspec": {
   "display_name": "Python 3",
   "language": "python",
   "name": "python3"
  },
  "language_info": {
   "codemirror_mode": {
    "name": "ipython",
    "version": 3
   },
   "file_extension": ".py",
   "mimetype": "text/x-python",
   "name": "python",
   "nbconvert_exporter": "python",
   "pygments_lexer": "ipython3",
   "version": "3.6.12"
  }
 },
 "nbformat": 4,
 "nbformat_minor": 4
}
